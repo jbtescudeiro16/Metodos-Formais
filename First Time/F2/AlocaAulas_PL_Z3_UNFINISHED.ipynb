{
  "nbformat": 4,
  "nbformat_minor": 0,
  "metadata": {
    "colab": {
      "provenance": []
    },
    "kernelspec": {
      "name": "python3",
      "display_name": "Python 3"
    },
    "language_info": {
      "name": "python"
    }
  },
  "cells": [
    {
      "cell_type": "markdown",
      "source": [
        "# Alocação de aulas\n",
        "\n",
        " Num curso de formação temos 5 aulas consecutivas e temos 3 formadores (a Ana, a Beatriz e o Carlos) capazes de dar qualquer aula. Queremos alocar os formadores à diversas aulas, obedecendo às seguintes restrições:\n",
        "\n",
        "1. O Carlos não pode dar a primeira aula.\n",
        "2. Se a Beatriz der a primeira aula, não poderá dar a última.\n",
        "3. Cada aula tem pelo menos um formador.\n",
        "4. As quatro primeiras aulas têm no máximo um formador.\n",
        "5. A última aula pode ter no máximo dois formadores.\n",
        "6. Nenhum formador pode dar 4 aulas consecutivas.\n",
        "\n",
        "Pretende-se que escreva um programa Python que, usando o Z3 como SAT solver, faça a distribuição das formadores pelas aulas.\n",
        "\n",
        "Começe por instalar o Z3."
      ],
      "metadata": {
        "id": "bJdEEVbsId0o"
      }
    },
    {
      "cell_type": "code",
      "source": [
        "!pip install z3-solver"
      ],
      "metadata": {
        "id": "JPWA737MIevm",
        "outputId": "fcf4eb84-45c6-4725-bd34-5108bdc0f30a",
        "colab": {
          "base_uri": "https://localhost:8080/"
        }
      },
      "execution_count": 1,
      "outputs": [
        {
          "output_type": "stream",
          "name": "stdout",
          "text": [
            "Collecting z3-solver\n",
            "  Downloading z3_solver-4.12.2.0-py2.py3-none-manylinux2014_x86_64.whl (55.7 MB)\n",
            "\u001b[2K     \u001b[90m━━━━━━━━━━━━━━━━━━━━━━━━━━━━━━━━━━━━━━━━\u001b[0m \u001b[32m55.7/55.7 MB\u001b[0m \u001b[31m17.3 MB/s\u001b[0m eta \u001b[36m0:00:00\u001b[0m\n",
            "\u001b[?25hInstalling collected packages: z3-solver\n",
            "Successfully installed z3-solver-4.12.2.0\n"
          ]
        }
      ]
    },
    {
      "cell_type": "markdown",
      "source": [
        "Para resolver o problema em Lógica Proposicional temos que\n",
        "\n",
        "1. Declarar um conjunto de variáveis Boolenas\n",
        "$x_{f,a}$ com a seguinte semântica:\n",
        "\n",
        "  > $x_{f,a}$ é verdade  *sse*   o formaldor $f$  dá a aula $a$\n",
        "\n",
        "2. De seguida, teremos que modelar cada uma das restrições, acrescentando as fórmulas lógicas correspondentes.\n",
        "\n",
        "3. Finalmente testamos se o conjunto de restrições é satisfazível e extraimos a solução calculada.  \n"
      ],
      "metadata": {
        "id": "66LsDl-GIdPk"
      }
    },
    {
      "cell_type": "code",
      "source": [
        "from z3 import *\n",
        "\n",
        "pessoas = [\"Ana\",\"Beatriz\",\"Carlos\"]\n",
        "aulas = [1,2,3,4,5]\n",
        "x = {}\n",
        "for p in pessoas:\n",
        "    x[p] = {}\n",
        "    for a in aulas:\n",
        "        x[p][a] = Bool(\"%s,%d\" % (p,a))\n",
        "\n",
        "s = Solver()\n",
        "\n",
        "#O Carlos não pode dar a primeira aula.\n",
        "s.add(Not(x[\"Carlos\"][1]))\n",
        "\n",
        "#Se a Beatriz der a primeira aula, não poderá dar a última.\n",
        "s.add(Implies(x[\"Beatriz\"][1],Not(x[\"Beatriz\"][5])))\n",
        "\n",
        "#Cada aula tem pelo menos um formador.\n",
        "for a in aulas:\n",
        "  s.add(Or([x[p][a] for p in pessoas]))\n",
        "\n",
        "#As quatro primeiras aulas têm no máximo um formador.\n",
        "\n",
        "\n",
        "#A última aula pode ter no máximo dois formadores.\n",
        "#Nenhum formador pode dar 4 aulas consecutivas.\n",
        "\n",
        "\n",
        "if s.check() == sat:\n",
        "    m = s.model()\n",
        "    for p in pessoas:\n",
        "        for a in aulas:\n",
        "            if is_true(m[x[p][a]]):\n",
        "                print(\"%s dá a aula  %s\" % (p,a))\n",
        "else:\n",
        "  print(\"Não tem solução.\")"
      ],
      "metadata": {
        "id": "a-zvT8xnJrZ7",
        "outputId": "c35e51d1-c4f4-4cb4-f8ef-672aa862b86d",
        "colab": {
          "base_uri": "https://localhost:8080/",
          "height": 390
        }
      },
      "execution_count": 7,
      "outputs": [
        {
          "output_type": "error",
          "ename": "Z3Exception",
          "evalue": "ignored",
          "traceback": [
            "\u001b[0;31m---------------------------------------------------------------------------\u001b[0m",
            "\u001b[0;31mZ3Exception\u001b[0m                               Traceback (most recent call last)",
            "\u001b[0;32m<ipython-input-7-389d652c2dc6>\u001b[0m in \u001b[0;36m<cell line: 24>\u001b[0;34m()\u001b[0m\n\u001b[1;32m     23\u001b[0m \u001b[0;31m#As quatro primeiras aulas têm no máximo um formador.\u001b[0m\u001b[0;34m\u001b[0m\u001b[0;34m\u001b[0m\u001b[0m\n\u001b[1;32m     24\u001b[0m \u001b[0;32mfor\u001b[0m \u001b[0ma\u001b[0m \u001b[0;32min\u001b[0m \u001b[0maulas\u001b[0m\u001b[0;34m[\u001b[0m\u001b[0;34m:\u001b[0m\u001b[0;34m-\u001b[0m\u001b[0;36m1\u001b[0m\u001b[0;34m]\u001b[0m\u001b[0;34m:\u001b[0m\u001b[0;34m\u001b[0m\u001b[0;34m\u001b[0m\u001b[0m\n\u001b[0;32m---> 25\u001b[0;31m     \u001b[0ms\u001b[0m\u001b[0;34m.\u001b[0m\u001b[0madd\u001b[0m\u001b[0;34m(\u001b[0m\u001b[0mAtMost\u001b[0m\u001b[0;34m(\u001b[0m\u001b[0;34m[\u001b[0m\u001b[0mx\u001b[0m\u001b[0;34m[\u001b[0m\u001b[0mp\u001b[0m\u001b[0;34m]\u001b[0m\u001b[0;34m[\u001b[0m\u001b[0ma\u001b[0m\u001b[0;34m]\u001b[0m \u001b[0;32mfor\u001b[0m \u001b[0mp\u001b[0m \u001b[0;32min\u001b[0m \u001b[0mpessoas\u001b[0m\u001b[0;34m]\u001b[0m\u001b[0;34m,\u001b[0m \u001b[0;36m1\u001b[0m\u001b[0;34m)\u001b[0m\u001b[0;34m)\u001b[0m\u001b[0;34m\u001b[0m\u001b[0;34m\u001b[0m\u001b[0m\n\u001b[0m\u001b[1;32m     26\u001b[0m \u001b[0;34m\u001b[0m\u001b[0m\n\u001b[1;32m     27\u001b[0m \u001b[0;31m#A última aula pode ter no máximo dois formadores.\u001b[0m\u001b[0;34m\u001b[0m\u001b[0;34m\u001b[0m\u001b[0m\n",
            "\u001b[0;32m/usr/local/lib/python3.10/dist-packages/z3/z3.py\u001b[0m in \u001b[0;36mAtMost\u001b[0;34m(*args)\u001b[0m\n\u001b[1;32m   8994\u001b[0m     \u001b[0mctx\u001b[0m \u001b[0;34m=\u001b[0m \u001b[0m_ctx_from_ast_arg_list\u001b[0m\u001b[0;34m(\u001b[0m\u001b[0margs\u001b[0m\u001b[0;34m)\u001b[0m\u001b[0;34m\u001b[0m\u001b[0;34m\u001b[0m\u001b[0m\n\u001b[1;32m   8995\u001b[0m     \u001b[0;32mif\u001b[0m \u001b[0mz3_debug\u001b[0m\u001b[0;34m(\u001b[0m\u001b[0;34m)\u001b[0m\u001b[0;34m:\u001b[0m\u001b[0;34m\u001b[0m\u001b[0;34m\u001b[0m\u001b[0m\n\u001b[0;32m-> 8996\u001b[0;31m         \u001b[0m_z3_assert\u001b[0m\u001b[0;34m(\u001b[0m\u001b[0mctx\u001b[0m \u001b[0;32mis\u001b[0m \u001b[0;32mnot\u001b[0m \u001b[0;32mNone\u001b[0m\u001b[0;34m,\u001b[0m \u001b[0;34m\"At least one of the arguments must be a Z3 expression\"\u001b[0m\u001b[0;34m)\u001b[0m\u001b[0;34m\u001b[0m\u001b[0;34m\u001b[0m\u001b[0m\n\u001b[0m\u001b[1;32m   8997\u001b[0m     \u001b[0margs1\u001b[0m \u001b[0;34m=\u001b[0m \u001b[0m_coerce_expr_list\u001b[0m\u001b[0;34m(\u001b[0m\u001b[0margs\u001b[0m\u001b[0;34m[\u001b[0m\u001b[0;34m:\u001b[0m\u001b[0;34m-\u001b[0m\u001b[0;36m1\u001b[0m\u001b[0;34m]\u001b[0m\u001b[0;34m,\u001b[0m \u001b[0mctx\u001b[0m\u001b[0;34m)\u001b[0m\u001b[0;34m\u001b[0m\u001b[0;34m\u001b[0m\u001b[0m\n\u001b[1;32m   8998\u001b[0m     \u001b[0mk\u001b[0m \u001b[0;34m=\u001b[0m \u001b[0margs\u001b[0m\u001b[0;34m[\u001b[0m\u001b[0;34m-\u001b[0m\u001b[0;36m1\u001b[0m\u001b[0;34m]\u001b[0m\u001b[0;34m\u001b[0m\u001b[0;34m\u001b[0m\u001b[0m\n",
            "\u001b[0;32m/usr/local/lib/python3.10/dist-packages/z3/z3.py\u001b[0m in \u001b[0;36m_z3_assert\u001b[0;34m(cond, msg)\u001b[0m\n\u001b[1;32m    105\u001b[0m \u001b[0;32mdef\u001b[0m \u001b[0m_z3_assert\u001b[0m\u001b[0;34m(\u001b[0m\u001b[0mcond\u001b[0m\u001b[0;34m,\u001b[0m \u001b[0mmsg\u001b[0m\u001b[0;34m)\u001b[0m\u001b[0;34m:\u001b[0m\u001b[0;34m\u001b[0m\u001b[0;34m\u001b[0m\u001b[0m\n\u001b[1;32m    106\u001b[0m     \u001b[0;32mif\u001b[0m \u001b[0;32mnot\u001b[0m \u001b[0mcond\u001b[0m\u001b[0;34m:\u001b[0m\u001b[0;34m\u001b[0m\u001b[0;34m\u001b[0m\u001b[0m\n\u001b[0;32m--> 107\u001b[0;31m         \u001b[0;32mraise\u001b[0m \u001b[0mZ3Exception\u001b[0m\u001b[0;34m(\u001b[0m\u001b[0mmsg\u001b[0m\u001b[0;34m)\u001b[0m\u001b[0;34m\u001b[0m\u001b[0;34m\u001b[0m\u001b[0m\n\u001b[0m\u001b[1;32m    108\u001b[0m \u001b[0;34m\u001b[0m\u001b[0m\n\u001b[1;32m    109\u001b[0m \u001b[0;34m\u001b[0m\u001b[0m\n",
            "\u001b[0;31mZ3Exception\u001b[0m: At least one of the arguments must be a Z3 expression"
          ]
        }
      ]
    },
    {
      "cell_type": "markdown",
      "source": [
        "Será que há várias alternativas para distribuir os formadores pelas aulas seguindo estas regras?\n",
        "Faça as alterações necessárias ao programa de modo a saber todas as distribuições possíveis."
      ],
      "metadata": {
        "id": "19EFp4c8Oa2x"
      }
    },
    {
      "cell_type": "code",
      "execution_count": null,
      "metadata": {
        "id": "0dWv6BLoIbkh"
      },
      "outputs": [],
      "source": []
    }
  ]
}
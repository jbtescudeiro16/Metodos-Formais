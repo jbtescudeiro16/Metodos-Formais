{
  "nbformat": 4,
  "nbformat_minor": 0,
  "metadata": {
    "colab": {
      "provenance": []
    },
    "kernelspec": {
      "name": "python3",
      "display_name": "Python 3"
    },
    "language_info": {
      "name": "python"
    }
  },
  "cells": [
    {
      "cell_type": "markdown",
      "source": [
        "# Distribuição de gabinetes\n",
        "\n",
        "Considere que temos 3 gabinetes e queremos distribuir 4 pessoas (Ana=1, Nuno=2, Pedro=3 e Maria=4) por esses gabinetes.\n",
        "\n",
        "Considere ainda que foram estipuladas as seguintes regras de ocupação dos gabinetes:\n",
        "\n",
        "1. Cada pessoa ocupa um único gabinete.\n",
        "2. O Nuno e o Pedro não podem partilhar gabinete.\n",
        "3. Se a Ana ficar sozinha num gabinete, então o Pedro também terá que ficar sozinho num gabinete.\n",
        "4. Cada gabinete só pode acomodar, no máximo, 2 pessoas.\n",
        "\n",
        "Pretende-se que escreva um programa Python que, usando o Z3 como SAT solver, faça a distribuição das pessoas pelos gabinetes.\n",
        "\n",
        "Começe por instalar o Z3.\n"
      ],
      "metadata": {
        "id": "S1xC8zxMGRqz"
      }
    },
    {
      "cell_type": "code",
      "source": [
        "!pip install z3-solver"
      ],
      "metadata": {
        "id": "G6bfwD8BPe2x",
        "outputId": "51b9ffb4-97bc-440f-84aa-a2a409d39d4e",
        "colab": {
          "base_uri": "https://localhost:8080/"
        }
      },
      "execution_count": 1,
      "outputs": [
        {
          "output_type": "stream",
          "name": "stdout",
          "text": [
            "Collecting z3-solver\n",
            "  Downloading z3_solver-4.12.2.0-py2.py3-none-manylinux2014_x86_64.whl (55.7 MB)\n",
            "\u001b[2K     \u001b[90m━━━━━━━━━━━━━━━━━━━━━━━━━━━━━━━━━━━━━━━━\u001b[0m \u001b[32m55.7/55.7 MB\u001b[0m \u001b[31m17.1 MB/s\u001b[0m eta \u001b[36m0:00:00\u001b[0m\n",
            "\u001b[?25hInstalling collected packages: z3-solver\n",
            "Successfully installed z3-solver-4.12.2.0\n"
          ]
        }
      ]
    },
    {
      "cell_type": "markdown",
      "source": [
        "Para resolver o problema em Lógica Proposicional temos que\n",
        "\n",
        "1. Declarar um conjunto de variáveis Boolenas\n",
        "$x_{p,g}$ com a seguinte semântica:\n",
        "\n",
        "  > $x_{p,g}$ é verdade  *sse*   a pessoa  $p$ ocupa o gabinete $g$\n",
        "\n",
        "2. De seguida, teremos que modelar cada uma das restrições, acrescentando as fórmulas lógicas correspondentes.\n",
        "\n",
        "3. Finalmente testamos se o conjunto de restrições é satisfazível e extraimos a solução calculada.  \n"
      ],
      "metadata": {
        "id": "AWyw9OdkJgXt"
      }
    },
    {
      "cell_type": "code",
      "source": [
        "\n"
      ],
      "metadata": {
        "id": "n7q9PpKnM3tr",
        "outputId": "6fefb6d0-0109-4293-c08a-7baa3e92dd38",
        "colab": {
          "base_uri": "https://localhost:8080/"
        }
      },
      "execution_count": 16,
      "outputs": [
        {
          "output_type": "stream",
          "name": "stdout",
          "text": [
            "Não tem solução.\n"
          ]
        }
      ]
    },
    {
      "cell_type": "code",
      "source": [
        "from z3 import *\n",
        "\n",
        "pessoas = [\"Ana\",\"Nuno\",\"Pedro\",\"Maria\"]\n",
        "gabs = [1,2,3]\n",
        "x = {}\n",
        "for p in pessoas:\n",
        "    x[p] = {}\n",
        "    for g in gabs:\n",
        "        x[p][g] = Bool(\"%s,%d\" % (p,g))\n",
        "\n",
        "s = Solver()\n",
        "\n",
        "# Cada pessoa ocupa pelo menos um gabinete.\n",
        "for p in pessoas:\n",
        "  s.add(Or([x[p][g] for g in gabs]))\n",
        "\n",
        "# Cada pessoa ocupa no máximo um gabinete.\n",
        "for p in pessoas:\n",
        "  s.add(Implies(x[p][1], And(Not(x[p][2]),Not(x[p][3])) ))\n",
        "  s.add(Implies(x[p][2],Not(x[p][3])))\n",
        "\n",
        "\n",
        "# O Nuno e o Pedro não podem partilhar gabinete.\n",
        "for g in gabs:\n",
        "  s.add(Implies(x[\"Pedro\"][g], Not(x[\"Nuno\"][g])))\n",
        "\n",
        "# Se a Ana ficar sozinha num gabinete, então o Pedro também terá\n",
        "# que ficar sozinho num gabinete.\n",
        "anaSo = Or([ And(x[\"Ana\"][g],Not(x[\"Pedro\"][g]),\n",
        "                 Not(x[\"Maria\"][g]),Not(x[\"Nuno\"][g]))  for g in gabs])\n",
        "pedroSo = Or([ And(x[\"Pedro\"][g],Not(x[\"Ana\"][g]),\n",
        "                 Not(x[\"Maria\"][g]),Not(x[\"Nuno\"][g]))  for g in gabs])\n",
        "\n",
        "s.add(Implies(anaSo,pedroSo))\n",
        "\n",
        "\n",
        "# Cada gabinete só pode acomodar, no máximo, 2 pessoas.\n",
        "comb = [(\"Ana\",\"Nuno\",\"Pedro\",\"Maria\"),(\"Ana\",\"Pedro\",\"Nuno\",\"Maria\"),\n",
        "        (\"Ana\",\"Maria\",\"Nuno\",\"Pedro\"),(\"Nuno\",\"Pedro\",\"Ana\",\"Maria\"),\n",
        "        (\"Nuno\",\"Maria\",\"Ana\",\"Pedro\"),(\"Pedro\",\"Maria\",\"Nuno\",\"Ana\")]\n",
        "for g in gabs:\n",
        "  s.add(And([Implies(And(x[p1][g],x[p2][g]), And(Not(x[p3][g]),Not(x[p4][g])))\n",
        "                for (p1,p2,p3,p4) in comb]))\n",
        "\n",
        "\n",
        "\n",
        "if s.check() == sat:\n",
        "    m = s.model()\n",
        "    for p in pessoas:\n",
        "        for g in gabs:\n",
        "            if is_true(m[x[p][g]]):\n",
        "                print(\"%s fica no gabinete %s\" % (p,g))\n",
        "else:\n",
        "  print(\"Não tem solução.\")"
      ],
      "metadata": {
        "colab": {
          "base_uri": "https://localhost:8080/"
        },
        "outputId": "9094bd2e-42c3-4e16-ba39-48d102bacfa7",
        "id": "53K-x3AXOu4M"
      },
      "execution_count": 17,
      "outputs": [
        {
          "output_type": "stream",
          "name": "stdout",
          "text": [
            "Ana fica no gabinete 1\n",
            "Nuno fica no gabinete 1\n",
            "Pedro fica no gabinete 2\n",
            "Maria fica no gabinete 3\n"
          ]
        }
      ]
    },
    {
      "cell_type": "markdown",
      "source": [
        "Será que há várias alternativas para distribuir os gabinetes seguindo estas regras?\n",
        "\n",
        "Faça as alterações necessárias ao programa de modo a saber todas as distribuições possíveis."
      ],
      "metadata": {
        "id": "uP4tL24UM7RP"
      }
    },
    {
      "cell_type": "code",
      "execution_count": null,
      "metadata": {
        "id": "WT5k5RBQ73Ts"
      },
      "outputs": [],
      "source": [
        "s.push()\n",
        "i=0\n",
        "\n",
        "while s.check() == sat:\n",
        "    i+=1\n",
        "    m = s.model()\n",
        "    f=[]\n",
        "    for p in pessoas:\n",
        "        for g in gabs:\n",
        "            if is_true(m[x[p][g]]):\n",
        "                print(\"%s fica no gabinete %s\" % (p,g))\n",
        "                f.append(Not(x[p][g]))\n",
        "            else:\n",
        "                f.append(x[p][g])\n",
        "    s.add(Or(f))\n",
        "    print()\n",
        "else:\n",
        "  print(\"Número de soluções: \", i)\n",
        "\n",
        "s.pop()"
      ]
    },
    {
      "cell_type": "markdown",
      "source": [
        "Use agora o SAT solver para testar a veracidade se cada uma das seguintes afirmações:\n",
        "\n",
        "1. Se a Maria ocupar o gabinete um, então ela ficará sozinha nesse gabinete.\n",
        "2. Se a Ana e o Nuno ficarem no mesmo gabinete, então a Maria e o Pedro terão que partilhar também um outro gabinete.\n",
        "\n",
        "A que conclusões chegou?\n"
      ],
      "metadata": {
        "id": "85MUCze2G5Uk"
      }
    },
    {
      "cell_type": "code",
      "source": [
        "s.push()\n",
        "\n",
        "# Se a Maria ocupar o gabinete um, então ela ficará sozinha nesse gabinete.\n",
        "form1 = Implies(x[\"Maria\"][1],\n",
        "                And([ Not(x[p][1]) for p in pessoas if p!=\"Maria\"]))\n",
        "\n",
        "s.add(Not(form1))\n",
        "\n",
        "print(\"A frase: \\\"Se a Maria ocupar o gabinete um, então ela ficará sozinha nesse gabinete\\\"\")\n",
        "if s.check() == unsat:\n",
        "  print(\"é verdadeira.\")\n",
        "else:\n",
        "  print(\"é falsa.\")\n",
        "\n",
        "s.pop()"
      ],
      "metadata": {
        "id": "UIspTD-wOoiF",
        "outputId": "edd71d2c-4c15-4eaa-f055-0e719f8cd759",
        "colab": {
          "base_uri": "https://localhost:8080/"
        }
      },
      "execution_count": 18,
      "outputs": [
        {
          "output_type": "stream",
          "name": "stdout",
          "text": [
            "A frase: \"Se a Maria ocupar o gabinete um, então ela ficará sozinha nesse gabinete\"\n",
            "é falsa.\n"
          ]
        }
      ]
    },
    {
      "cell_type": "code",
      "source": [
        "s.push()\n",
        "\n",
        "# Se a Ana e o Nuno ficarem no mesmo gabinete, então a Maria e o Pedro\n",
        "# terão que partilhar também um outro gabinete.\n",
        "form2 = And([ Implies(And(x[\"Ana\"][g],x[\"Nuno\"][g]),\n",
        "                     Or([ And(x[\"Maria\"][a],x[\"Pedro\"][a]) for a in gabs if a!=g]))\n",
        "                for g in gabs ])\n",
        "\n",
        "s.add(Not(form2))\n",
        "\n",
        "print(\"A frase: \\\"Se a Ana e o Nuno ficarem no mesmo gabinete, então a Maria e o Pedro terão que partilhar também um outro gabinete.\\\"\")\n",
        "if s.check() == unsat:\n",
        "  print(\"é verdadeira.\")\n",
        "else:\n",
        "  print(\"é falsa.\")\n",
        "\n",
        "s.pop()"
      ],
      "metadata": {
        "id": "fn_IAs55nf5k",
        "outputId": "b792c7df-0600-4d7e-a5b2-75d629475bef",
        "colab": {
          "base_uri": "https://localhost:8080/"
        }
      },
      "execution_count": 19,
      "outputs": [
        {
          "output_type": "stream",
          "name": "stdout",
          "text": [
            "A frase: \"Se a Ana e o Nuno ficarem no mesmo gabinete, então a Maria e o Pedro terão que partilhar também um outro gabinete.\"\n",
            "é falsa.\n"
          ]
        }
      ]
    }
  ]
}
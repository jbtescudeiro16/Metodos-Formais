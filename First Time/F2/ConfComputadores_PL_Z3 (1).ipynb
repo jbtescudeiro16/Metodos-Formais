{
  "nbformat": 4,
  "nbformat_minor": 0,
  "metadata": {
    "colab": {
      "provenance": []
    },
    "kernelspec": {
      "name": "python3",
      "display_name": "Python 3"
    },
    "language_info": {
      "name": "python"
    }
  },
  "cells": [
    {
      "cell_type": "markdown",
      "source": [
        "  # Configuração de computadores\n",
        "  \n",
        "  Uma loja de electrónica permite aos seus clientes personalizar o seu computador, escolhendo entre dois modelos de CPU, dois modelos de placa gráfica, dois modelos de memória RAM, dois modelos de *motherboards* e dois modelos de monitor. Cada computador tem que ter obrigatorimente uma única *motherboard*, um único CPU, uma única placa gráfica e uma única memória RAM. O computador poderá ter ou não ter monitor.\n",
        "  \n",
        "  A personalização do computador deverá obedecer às seguintas regras:\n",
        "  \n",
        "  1. A *motherboard* MB1 quando combinada com a placa gráfica PG1, obriga à utilização da RAM1.\n",
        "  \n",
        "  2. A placa grágica PG1 precisa do CPU1, excepto quando combinada com uma memória RAM2.\n",
        "  \n",
        "  3. O CPU2 só pode ser instalado na *motherboard* MB2.\n",
        "  \n",
        "  4. O monitor MON1 para poder funcionar precisa da placa gráfica PG1 e da memória RAM2.\n",
        "\n",
        "\n",
        "\n",
        "Codifique o problema num SAT solver e comprove que o conjunto de regras é consistente.  \n"
      ],
      "metadata": {
        "id": "MZhF8AoqzrkI"
      }
    },
    {
      "cell_type": "markdown",
      "source": [
        "Começe por instalar o SAT solver (neste caso o Z3)"
      ],
      "metadata": {
        "id": "II7Nr5We1yao"
      }
    },
    {
      "cell_type": "code",
      "execution_count": 1,
      "metadata": {
        "id": "M6cNifOIzc8V",
        "colab": {
          "base_uri": "https://localhost:8080/"
        },
        "outputId": "4f496576-5ba3-4917-e277-e60c41a4797f"
      },
      "outputs": [
        {
          "output_type": "stream",
          "name": "stdout",
          "text": [
            "Collecting z3-solver\n",
            "  Downloading z3_solver-4.12.2.0-py2.py3-none-manylinux2014_x86_64.whl (55.7 MB)\n",
            "\u001b[2K     \u001b[90m━━━━━━━━━━━━━━━━━━━━━━━━━━━━━━━━━━━━━━━━\u001b[0m \u001b[32m55.7/55.7 MB\u001b[0m \u001b[31m13.9 MB/s\u001b[0m eta \u001b[36m0:00:00\u001b[0m\n",
            "\u001b[?25hInstalling collected packages: z3-solver\n",
            "Successfully installed z3-solver-4.12.2.0\n"
          ]
        }
      ],
      "source": [
        "!pip install z3-solver"
      ]
    },
    {
      "cell_type": "markdown",
      "source": [
        "Para resolver o problema em Lógica Proposicional temos que\n",
        "\n",
        "1. Declarar as variáveis Boolenas necessárias à modelação do problema.\n",
        "\n",
        "2. De seguida, teremos que modelar cada uma das restrições, acrescentando as fórmulas lógicas correspondentes.\n",
        "\n",
        "3. Finalmente testamos se o conjunto de restrições é satisfazível."
      ],
      "metadata": {
        "id": "5r90dv6W9hHE"
      }
    },
    {
      "cell_type": "code",
      "source": [
        "from z3 import *\n",
        "\n",
        "CPU1, CPU2 = Bools(\"CPU1 CPU2\")\n",
        "MON1, MON2 = Bools(\"MON1 MON2\")\n",
        "MB1, MB2 = Bools(\"MB1 MB2\")\n",
        "PG1, PG2 = Bools(\"PG1 PG2\")\n",
        "RAM1, RAM2 = Bools(\"RAM RAM2\")\n",
        "\n",
        "\n",
        "s = Solver()\n",
        "\n",
        "# Um e um só CPU, PG, RAM e MB\n",
        "s.add(Or(CPU1,CPU2))\n",
        "s.add(Implies(CPU1,Not(CPU2)))\n",
        "\n",
        "s.add(Or(MB1,MB2))\n",
        "s.add(Implies(MB1,Not(MB2)))\n",
        "\n",
        "s.add(Or(PG1,PG2))\n",
        "s.add(Implies(PG1,Not(PG2)))\n",
        "\n",
        "s.add(Or(RAM1,RAM2))\n",
        "s.add(Implies(RAM1,Not(RAM2)))\n",
        "\n",
        "# A motherboard MB1 quando combinada com a placa gráfica PG1, obriga à utilização da RAM1.\n",
        "\n",
        "s.add(Implies(And(MB1,PG1),RAM1))\n",
        "\n",
        "# A placa grágica PG1 precisa do CPU1, excepto quando combinada com uma memória RAM2.\n",
        "s.add(Implies(And(PG1,Not(RAM2)),CPU1))\n",
        "\n",
        "\n",
        "# O CPU2 só pode ser instalado na motherboard MB2.\n",
        "s.add(Implies(CPU2,MB2))\n",
        "\n",
        "# O monitor MON1 para poder funcionar precisa da placa gráfica PG1 e da memória RAM2.\n",
        "s.add(Implies(MON2,And(PG1,RAM2)))\n",
        "\n",
        "s.push()\n",
        "\n",
        "if s.check() == sat:\n",
        "   print(\"O conjunto de regras é consistente.\")\n",
        "else:\n",
        "  print(\"O conjunto de regras é inconsistente.\")"
      ],
      "metadata": {
        "id": "Dz_3C4q02Sfz",
        "colab": {
          "base_uri": "https://localhost:8080/"
        },
        "outputId": "60efef44-8760-48be-9b48-63a75e87d1ce"
      },
      "execution_count": 3,
      "outputs": [
        {
          "output_type": "stream",
          "name": "stdout",
          "text": [
            "O conjunto de regras é consistente.\n"
          ]
        }
      ]
    },
    {
      "cell_type": "markdown",
      "source": [
        "A afirmação:\n",
        "\n",
        "> O monitor MON1 só poderá ser usado com uma *motherboard* MB1.\n",
        "\n",
        "é verdadeira?\n"
      ],
      "metadata": {
        "id": "yNgJQRmuzqdF"
      }
    },
    {
      "cell_type": "code",
      "source": [
        "s.push()\n",
        "\n",
        "#  O monitor MON1 só poderá ser usado com uma motherboard MB1\n",
        "form1 = Implies(MON1,MB1)\n",
        "\n",
        "s.add(Not(form1))\n",
        "\n",
        "print(\"A frase: \\\" O monitor MON1 só poderá ser usado com uma motherboard MB1.\\\"\")\n",
        "if s.check() == unsat:\n",
        "  print(\"é verdadeira.\")\n",
        "else:\n",
        "  print(\"é falsa.\")\n",
        "\n",
        "s.pop()\n"
      ],
      "metadata": {
        "id": "L3zFymoD2UDh",
        "colab": {
          "base_uri": "https://localhost:8080/"
        },
        "outputId": "32a80367-ac8e-4658-955c-eda1ee6c680d"
      },
      "execution_count": 10,
      "outputs": [
        {
          "output_type": "stream",
          "name": "stdout",
          "text": [
            "A frase: \" O monitor MON1 só poderá ser usado com uma motherboard MB1.\"\n",
            "é falsa.\n"
          ]
        }
      ]
    },
    {
      "cell_type": "markdown",
      "source": [
        "Um cliente pode personalizar o seu computador da seguinte forma: uma motherboard MB2, o CPU1, a placa gráfica PG2 e a memória RAM1 ?"
      ],
      "metadata": {
        "id": "6ARtVIrIFsmO"
      }
    },
    {
      "cell_type": "code",
      "source": [
        "\n",
        "print(\"Um cliente pode personalizar o seu computador da seguinte forma: \")\n",
        "print(\"uma motherboard MB2, o CPU1, a placa gráfica PG2 e a memória RAM1 ?\")\n",
        "s.push()\n",
        "\n",
        "#  O monitor MON1 só poderá ser usado com uma motherboard MB1\n",
        "form1 = And(MB2,CPU1,PG2,RAM1)\n",
        "\n",
        "s.add((form1))\n",
        "\n",
        "print(\"A frase: \\\" uma motherboard MB2, o CPU1, a placa gráfica PG2 e a memória RAM1\\\"\")\n",
        "if s.check() == sat:\n",
        "  print(\"é verdadeira.\")\n",
        "else:\n",
        "  print(\"é falsa.\")\n",
        "\n",
        "s.pop()"
      ],
      "metadata": {
        "id": "GxAVckSYFtZV",
        "colab": {
          "base_uri": "https://localhost:8080/"
        },
        "outputId": "7e6c880a-d2a1-416a-bcd0-94d7cb7ec956"
      },
      "execution_count": 9,
      "outputs": [
        {
          "output_type": "stream",
          "name": "stdout",
          "text": [
            "Um cliente pode personalizar o seu computador da seguinte forma: \n",
            "uma motherboard MB2, o CPU1, a placa gráfica PG2 e a memória RAM1 ?\n",
            "A frase: \" uma motherboard MB2, o CPU1, a placa gráfica PG2 e a memória RAM1\"\n",
            "é verdadeira.\n"
          ]
        }
      ]
    }
  ]
}
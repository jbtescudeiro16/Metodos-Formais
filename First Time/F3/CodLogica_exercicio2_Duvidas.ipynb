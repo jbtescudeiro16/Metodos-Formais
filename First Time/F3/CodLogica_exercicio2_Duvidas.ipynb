{
  "nbformat": 4,
  "nbformat_minor": 0,
  "metadata": {
    "colab": {
      "provenance": []
    },
    "kernelspec": {
      "name": "python3",
      "display_name": "Python 3"
    },
    "language_info": {
      "name": "python"
    }
  },
  "cells": [
    {
      "cell_type": "code",
      "source": [
        "!pip install z3-solver"
      ],
      "metadata": {
        "id": "ORObLn3pQvMu",
        "outputId": "579ff2b3-86cd-4f0d-efe4-f2558915e927",
        "colab": {
          "base_uri": "https://localhost:8080/"
        }
      },
      "execution_count": 1,
      "outputs": [
        {
          "output_type": "stream",
          "name": "stdout",
          "text": [
            "Collecting z3-solver\n",
            "  Downloading z3_solver-4.12.2.0-py2.py3-none-manylinux2014_x86_64.whl (55.7 MB)\n",
            "\u001b[2K     \u001b[90m━━━━━━━━━━━━━━━━━━━━━━━━━━━━━━━━━━━━━━━━\u001b[0m \u001b[32m55.7/55.7 MB\u001b[0m \u001b[31m19.7 MB/s\u001b[0m eta \u001b[36m0:00:00\u001b[0m\n",
            "\u001b[?25hInstalling collected packages: z3-solver\n",
            "Successfully installed z3-solver-4.12.2.0\n"
          ]
        }
      ]
    },
    {
      "cell_type": "markdown",
      "source": [
        "# Codificação lógica de um programa\n",
        "Considere o seguinte programa C sobre inteiros.\n",
        "\n",
        "```\n",
        "z = 0;\n",
        "x = x + y;\n",
        "if (y >= 0) {\n",
        "  y = x - y;\n",
        "  x = x - y;\n",
        "}\n",
        "else {\n",
        "  z = x - y;\n",
        "  x = y;\n",
        "  y = 0;\n",
        "}\n",
        "z = x + y + z;\n",
        "```\n",
        "Faça a codificação lógica deste programa.\n"
      ],
      "metadata": {
        "id": "7Z8m6Ro68eVV"
      }
    },
    {
      "cell_type": "markdown",
      "source": [
        "Conversão para SA:\n",
        "\n",
        "```\n",
        "z = 0;\n",
        "z0=z;\n",
        "x0=x;\n",
        "y0=y;\n",
        "\n",
        "x1=x0+y0;\n",
        "\n",
        "if(y0>=0){\n",
        "  y1=x1-y0;\n",
        "  x2=x1-y1;\n",
        "}\n",
        "else{\n",
        "  z1=x1-y0;\n",
        "  x2=y0;\n",
        "  y1=0;\n",
        "}\n",
        "if(y0>=0){\n",
        "  z2=x2+y1+z0\n",
        "}\n",
        "else if(y0==0){\n",
        "  z2=x2+y1+z1\n",
        "}\n",
        "\n",
        "\n",
        "```"
      ],
      "metadata": {
        "id": "DNNuJaPq-_AC"
      }
    },
    {
      "cell_type": "markdown",
      "source": [
        "Conversão para CNF:\n",
        "\n",
        "```\n",
        "\n",
        "z0=z;\n",
        "x0=x;\n",
        "y0=y;\n",
        "\n",
        "x1=x0+y0;\n",
        "\n",
        "if(y0>=0){\n",
        "  y1=x1-y0;\n",
        "  x2=x1-y1;\n",
        "}\n",
        "if (!(y0>=0)){\n",
        "  z1=x1-y0;\n",
        "  x2=y0;\n",
        "  y1=0;\n",
        "}\n",
        "if(y0>=0){\n",
        "  z2=x2+y1+z0\n",
        "}\n",
        "else if(y0==0){\n",
        "  z2=x2+y1+z1\n",
        "}\n",
        "\n",
        "```"
      ],
      "metadata": {
        "id": "zA3bg5GPTzFN"
      }
    },
    {
      "cell_type": "markdown",
      "source": [
        "Codificação lógica do programa em Z3:"
      ],
      "metadata": {
        "id": "K__p81HYVCVm"
      }
    },
    {
      "cell_type": "code",
      "source": [
        "from z3 import *\n",
        "\n",
        "\n",
        "(...)\n",
        "\n",
        "\n",
        "if s.check() == sat :\n",
        "    print(\"Ok.\")\n",
        "else:\n",
        "    print(\"A codificação não deve estar bem.\")"
      ],
      "metadata": {
        "id": "8BrW0UFYQjaL"
      },
      "execution_count": null,
      "outputs": []
    },
    {
      "cell_type": "markdown",
      "source": [
        "Tendo por base a codificação lógica que fez do programa, utilize o API do Z3 para Python para se pronunciar quanto à veracidade das seguintes afirmações. Justifique a sua resposta. No caso da afirmação ser falsa, apresente o contra-exemplo indicado pelo solver.\n",
        "\n",
        "   1. *Se o valor inicial de $y$ for positivo, o programa faz a troca dos valores de $x$ e $y$ entre si.*\n",
        "\n",
        "   2. *O valor final de $y$ nunca é negativo.*\n",
        "   \n",
        "   3. *O valor final de $z$ corresponde à soma dos valores de entrada de $x$ e $y$.*\n",
        "\n",
        "   4. *O valor final de x é sempre negativo.*"
      ],
      "metadata": {
        "id": "lAjmUo9s-pWt"
      }
    },
    {
      "cell_type": "code",
      "execution_count": null,
      "metadata": {
        "id": "8684RNWJ8Wix"
      },
      "outputs": [],
      "source": [
        "s.push()\n",
        "\n",
        "prop = \"\\n\\\"Se o valor inicial de y for positivo, o programa faz a troca \\\n",
        "dos valores de x e y entre si.\\\"\"\n",
        "\n",
        "(...)\n",
        "\n",
        "\n",
        "s.pop()"
      ]
    },
    {
      "cell_type": "code",
      "source": [
        "s.push()\n",
        "\n",
        "prop = \"\\n\\\"O valor final de y nunca é negativo.\\\"\"\n",
        "\n",
        "(...)\n",
        "\n",
        "s.pop()"
      ],
      "metadata": {
        "id": "wR-0tzTdYZwH"
      },
      "execution_count": null,
      "outputs": []
    },
    {
      "cell_type": "code",
      "source": [
        "s.push()\n",
        "\n",
        "prop = \"\\n\\\"O valor final de z corresponde à soma dos valores de entrada de x e y.\\\"\"\n",
        "\n",
        "(...)\n",
        "\n",
        "s.pop()"
      ],
      "metadata": {
        "id": "0XfcGtC8YaYb"
      },
      "execution_count": null,
      "outputs": []
    },
    {
      "cell_type": "code",
      "source": [
        "s.push()\n",
        "\n",
        "prop = \"\\n\\\"O valor final de x é sempre negativo.\\\"\"\n",
        "\n",
        "\n",
        "(...)\n",
        "\n",
        "s.pop()"
      ],
      "metadata": {
        "id": "ZzfAoRWteN6_"
      },
      "execution_count": null,
      "outputs": []
    }
  ]
}
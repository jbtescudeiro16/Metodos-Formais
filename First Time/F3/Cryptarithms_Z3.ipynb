{
  "nbformat": 4,
  "nbformat_minor": 0,
  "metadata": {
    "colab": {
      "provenance": []
    },
    "kernelspec": {
      "name": "python3",
      "display_name": "Python 3"
    },
    "language_info": {
      "name": "python"
    }
  },
  "cells": [
    {
      "cell_type": "markdown",
      "source": [
        "# Cryptarithms\n",
        "\n",
        "O Cryptarithms é um jogo que consiste numa equação matemática entre números desconhecidos, cujos dígitos são representados por letras. Cada letra deve representar um dígito diferente e o dígito inicial de um número com vários dígitos não deve ser zero.\n",
        "\n",
        "Queremos saber os dígitos a que correspondem as letras envolvidas na seguinte equação:\n",
        "```\n",
        "SEND + MORE = MONEY\n",
        "```\n",
        "Podemos modelar o problema numa teoria de inteiros. Cada letra dá origem a uma variável inteira ($S$,$E$,$N$,$D$,$M$,$O$,$R$ e $Y$) e para representar a equação acima representamos cada parcela por uma expressão aritmética onde cada letra é multiplicada pelo seu “peso específico” em base 10.\n",
        "\n",
        "Resolva o problema usando o Z3."
      ],
      "metadata": {
        "id": "AJCJN2XV4A78"
      }
    },
    {
      "cell_type": "code",
      "source": [
        "!pip install z3-solver"
      ],
      "metadata": {
        "id": "z7fYAg3m6DmP",
        "outputId": "ac259b73-4064-48e2-c6c4-31f1de0db593",
        "colab": {
          "base_uri": "https://localhost:8080/"
        }
      },
      "execution_count": 1,
      "outputs": [
        {
          "output_type": "stream",
          "name": "stdout",
          "text": [
            "Collecting z3-solver\n",
            "  Downloading z3_solver-4.12.2.0-py2.py3-none-manylinux2014_x86_64.whl (55.7 MB)\n",
            "\u001b[2K     \u001b[90m━━━━━━━━━━━━━━━━━━━━━━━━━━━━━━━━━━━━━━━━\u001b[0m \u001b[32m55.7/55.7 MB\u001b[0m \u001b[31m15.8 MB/s\u001b[0m eta \u001b[36m0:00:00\u001b[0m\n",
            "\u001b[?25hInstalling collected packages: z3-solver\n",
            "Successfully installed z3-solver-4.12.2.0\n"
          ]
        }
      ]
    },
    {
      "cell_type": "code",
      "execution_count": 5,
      "metadata": {
        "id": "8mMmr6-f3lXc",
        "outputId": "913ba4d4-2c5b-4c66-a40a-7c08fbabfe7e",
        "colab": {
          "base_uri": "https://localhost:8080/"
        }
      },
      "outputs": [
        {
          "output_type": "stream",
          "name": "stdout",
          "text": [
            "N = 6\n",
            "E = 5\n",
            "Y = 2\n",
            "M = 1\n",
            "S = 9\n",
            "R = 8\n",
            "O = 0\n",
            "D = 7\n"
          ]
        }
      ],
      "source": [
        "from z3 import *\n",
        "\n",
        "S, E, N, D, M, O, R, Y = Ints('S E N D M O R Y')\n",
        "\n",
        "s = Solver()\n",
        "s.add(S>0,E>=0,N>=0,D>=0,M>0,O>=0,R>=0,Y>=0)\n",
        "s.add(S<=9,E<=9,N<=9,D<=9,M<=9,O<=9,R<=9,Y<=9)\n",
        "\n",
        "s.add((D + 10 * N + 100 * E + S * 1000) + (E + R * 10 + O * 100 + M * 1000) == (Y + E * 10 + N * 100 + O * 1000 + M * 10000))\n",
        "\n",
        "\n",
        "s.add(Distinct(S, E, N, D, M, O, R, Y))\n",
        "\n",
        "\n",
        "\n",
        "\n",
        "if s.check() == sat:\n",
        "    m = s.model()\n",
        "    # Imprime a primeira solução encontrada\n",
        "    for d in m.decls():\n",
        "        print(\"%s = %d\" % (d.name(), m[d].as_long()))\n",
        "\n",
        "    # Verifica se há mais soluções\n",
        "else:\n",
        "    print(\"Não tem solução.\")"
      ]
    },
    {
      "cell_type": "markdown",
      "source": [
        "Mostrar todas as soluções possíveis. Quantas são?"
      ],
      "metadata": {
        "id": "y9MXAXCWFjzV"
      }
    },
    {
      "cell_type": "code",
      "source": [
        "s.push()\n",
        "\n",
        "s.add(Not(And(S==9,N==6,E==5,Y==2,M==1,R==8,O==0,D==7)))\n",
        "if s.check() == sat:\n",
        "    m = s.model()\n",
        "    # Imprime a primeira solução encontrada\n",
        "    for d in m.decls():\n",
        "        print(\"%s = %d\" % (d.name(), m[d].as_long()))\n",
        "\n",
        "\n",
        "    # Verifica se há mais soluções\n",
        "else:\n",
        "    print(\"Não tem solução.\")\n",
        "s.pop()"
      ],
      "metadata": {
        "id": "yUiCBMwSEbiY",
        "outputId": "2c425d43-f92e-4839-8805-de40899e446b",
        "colab": {
          "base_uri": "https://localhost:8080/"
        }
      },
      "execution_count": 8,
      "outputs": [
        {
          "output_type": "stream",
          "name": "stdout",
          "text": [
            "Não tem solução.\n"
          ]
        }
      ]
    }
  ]
}